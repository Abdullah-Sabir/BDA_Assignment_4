{
 "cells": [
  {
   "cell_type": "markdown",
   "metadata": {
    "id": "kPt5q27L5557"
   },
   "source": [
    "# CS895 - Assignment04\n",
    "## K-Means & PCA\n",
    "\n",
    "There are **7 Questions** in this assignment. All are mandatory. Do the assignment on Google CoLab. Write your code in the cells for each question and submit this notebook on LMS. "
   ]
  },
  {
   "cell_type": "markdown",
   "metadata": {
    "id": "p0-YhEpP_Ds-"
   },
   "source": [
    "### Setup"
   ]
  },
  {
   "cell_type": "markdown",
   "metadata": {
    "id": "Zsj5WYpR9QId"
   },
   "source": [
    "Let's setup Spark on your Colab environment.  Run the cell below!"
   ]
  },
  {
   "cell_type": "code",
   "execution_count": 1,
   "metadata": {
    "colab": {
     "base_uri": "https://localhost:8080/"
    },
    "id": "k-qHai2252mI",
    "outputId": "e96e24a3-4839-4c4f-b571-0136e38145a4"
   },
   "outputs": [
    {
     "name": "stdout",
     "output_type": "stream",
     "text": [
      "Collecting pyspark\n",
      "\u001b[?25l  Downloading https://files.pythonhosted.org/packages/f0/26/198fc8c0b98580f617cb03cb298c6056587b8f0447e20fa40c5b634ced77/pyspark-3.0.1.tar.gz (204.2MB)\n",
      "\u001b[K     |████████████████████████████████| 204.2MB 65kB/s \n",
      "\u001b[?25hCollecting py4j==0.10.9\n",
      "\u001b[?25l  Downloading https://files.pythonhosted.org/packages/9e/b6/6a4fb90cd235dc8e265a6a2067f2a2c99f0d91787f06aca4bcf7c23f3f80/py4j-0.10.9-py2.py3-none-any.whl (198kB)\n",
      "\u001b[K     |████████████████████████████████| 204kB 49.0MB/s \n",
      "\u001b[?25hBuilding wheels for collected packages: pyspark\n",
      "  Building wheel for pyspark (setup.py) ... \u001b[?25l\u001b[?25hdone\n",
      "  Created wheel for pyspark: filename=pyspark-3.0.1-py2.py3-none-any.whl size=204612242 sha256=a723378ef8b5936264805d365734ccc31b4794ec2c62848e818af10fd6742b10\n",
      "  Stored in directory: /root/.cache/pip/wheels/5e/bd/07/031766ca628adec8435bb40f0bd83bb676ce65ff4007f8e73f\n",
      "Successfully built pyspark\n",
      "Installing collected packages: py4j, pyspark\n",
      "Successfully installed py4j-0.10.9 pyspark-3.0.1\n",
      "The following additional packages will be installed:\n",
      "  openjdk-8-jre-headless\n",
      "Suggested packages:\n",
      "  openjdk-8-demo openjdk-8-source libnss-mdns fonts-dejavu-extra\n",
      "  fonts-ipafont-gothic fonts-ipafont-mincho fonts-wqy-microhei\n",
      "  fonts-wqy-zenhei fonts-indic\n",
      "The following NEW packages will be installed:\n",
      "  openjdk-8-jdk-headless openjdk-8-jre-headless\n",
      "0 upgraded, 2 newly installed, 0 to remove and 16 not upgraded.\n",
      "Need to get 36.5 MB of archives.\n",
      "After this operation, 143 MB of additional disk space will be used.\n",
      "Selecting previously unselected package openjdk-8-jre-headless:amd64.\n",
      "(Reading database ... 145483 files and directories currently installed.)\n",
      "Preparing to unpack .../openjdk-8-jre-headless_8u275-b01-0ubuntu1~18.04_amd64.deb ...\n",
      "Unpacking openjdk-8-jre-headless:amd64 (8u275-b01-0ubuntu1~18.04) ...\n",
      "Selecting previously unselected package openjdk-8-jdk-headless:amd64.\n",
      "Preparing to unpack .../openjdk-8-jdk-headless_8u275-b01-0ubuntu1~18.04_amd64.deb ...\n",
      "Unpacking openjdk-8-jdk-headless:amd64 (8u275-b01-0ubuntu1~18.04) ...\n",
      "Setting up openjdk-8-jre-headless:amd64 (8u275-b01-0ubuntu1~18.04) ...\n",
      "update-alternatives: using /usr/lib/jvm/java-8-openjdk-amd64/jre/bin/orbd to provide /usr/bin/orbd (orbd) in auto mode\n",
      "update-alternatives: using /usr/lib/jvm/java-8-openjdk-amd64/jre/bin/servertool to provide /usr/bin/servertool (servertool) in auto mode\n",
      "update-alternatives: using /usr/lib/jvm/java-8-openjdk-amd64/jre/bin/tnameserv to provide /usr/bin/tnameserv (tnameserv) in auto mode\n",
      "Setting up openjdk-8-jdk-headless:amd64 (8u275-b01-0ubuntu1~18.04) ...\n",
      "update-alternatives: using /usr/lib/jvm/java-8-openjdk-amd64/bin/idlj to provide /usr/bin/idlj (idlj) in auto mode\n",
      "update-alternatives: using /usr/lib/jvm/java-8-openjdk-amd64/bin/wsimport to provide /usr/bin/wsimport (wsimport) in auto mode\n",
      "update-alternatives: using /usr/lib/jvm/java-8-openjdk-amd64/bin/jsadebugd to provide /usr/bin/jsadebugd (jsadebugd) in auto mode\n",
      "update-alternatives: using /usr/lib/jvm/java-8-openjdk-amd64/bin/native2ascii to provide /usr/bin/native2ascii (native2ascii) in auto mode\n",
      "update-alternatives: using /usr/lib/jvm/java-8-openjdk-amd64/bin/javah to provide /usr/bin/javah (javah) in auto mode\n",
      "update-alternatives: using /usr/lib/jvm/java-8-openjdk-amd64/bin/clhsdb to provide /usr/bin/clhsdb (clhsdb) in auto mode\n",
      "update-alternatives: using /usr/lib/jvm/java-8-openjdk-amd64/bin/xjc to provide /usr/bin/xjc (xjc) in auto mode\n",
      "update-alternatives: using /usr/lib/jvm/java-8-openjdk-amd64/bin/hsdb to provide /usr/bin/hsdb (hsdb) in auto mode\n",
      "update-alternatives: using /usr/lib/jvm/java-8-openjdk-amd64/bin/schemagen to provide /usr/bin/schemagen (schemagen) in auto mode\n",
      "update-alternatives: using /usr/lib/jvm/java-8-openjdk-amd64/bin/extcheck to provide /usr/bin/extcheck (extcheck) in auto mode\n",
      "update-alternatives: using /usr/lib/jvm/java-8-openjdk-amd64/bin/jhat to provide /usr/bin/jhat (jhat) in auto mode\n",
      "update-alternatives: using /usr/lib/jvm/java-8-openjdk-amd64/bin/wsgen to provide /usr/bin/wsgen (wsgen) in auto mode\n"
     ]
    }
   ],
   "source": [
    "!pip install pyspark\n",
    "!pip install -U -q PyDrive\n",
    "!apt install openjdk-8-jdk-headless -qq\n",
    "import os\n",
    "os.environ[\"JAVA_HOME\"] = \"/usr/lib/jvm/java-8-openjdk-amd64\""
   ]
  },
  {
   "cell_type": "markdown",
   "metadata": {
    "id": "qwtlO4_m_LbQ"
   },
   "source": [
    "Now we import some of the libraries usually needed by our workload.\n",
    "\n",
    "\n",
    "\n"
   ]
  },
  {
   "cell_type": "code",
   "execution_count": 2,
   "metadata": {
    "id": "twk-K-jilWK7"
   },
   "outputs": [],
   "source": [
    "import pandas as pd\n",
    "import numpy as np\n",
    "import matplotlib.pyplot as plt\n",
    "%matplotlib inline\n",
    "\n",
    "import pyspark\n",
    "from pyspark.sql import *\n",
    "from pyspark.sql.types import *\n",
    "from pyspark.sql.functions import *\n",
    "from pyspark import SparkContext, SparkConf"
   ]
  },
  {
   "cell_type": "markdown",
   "metadata": {
    "id": "BtrJlMBt1Ela"
   },
   "source": [
    "Let's initialize the Spark context."
   ]
  },
  {
   "cell_type": "code",
   "execution_count": 3,
   "metadata": {
    "id": "Vm3sAVeK1EDZ"
   },
   "outputs": [],
   "source": [
    "# create the session\n",
    "conf = SparkConf().set(\"spark.ui.port\", \"4050\")\n",
    "\n",
    "# create the context\n",
    "sc = pyspark.SparkContext(conf=conf)\n",
    "spark = SparkSession.builder.getOrCreate()"
   ]
  },
  {
   "cell_type": "markdown",
   "metadata": {
    "id": "YqovskkH1DmC"
   },
   "source": [
    "You can easily check the current version and get the link of the web interface. In the Spark UI, you can monitor the progress of your job and debug the performance bottlenecks (if your Colab is running with a **local runtime**)."
   ]
  },
  {
   "cell_type": "code",
   "execution_count": 4,
   "metadata": {
    "colab": {
     "base_uri": "https://localhost:8080/",
     "height": 216
    },
    "id": "DueQggJc1DDk",
    "outputId": "80b55135-416a-4ab5-8e28-59c0c9995dfa"
   },
   "outputs": [
    {
     "data": {
      "text/html": [
       "\n",
       "            <div>\n",
       "                <p><b>SparkSession - in-memory</b></p>\n",
       "                \n",
       "        <div>\n",
       "            <p><b>SparkContext</b></p>\n",
       "\n",
       "            <p><a href=\"http://57a61ad13e1c:4050\">Spark UI</a></p>\n",
       "\n",
       "            <dl>\n",
       "              <dt>Version</dt>\n",
       "                <dd><code>v3.0.1</code></dd>\n",
       "              <dt>Master</dt>\n",
       "                <dd><code>local[*]</code></dd>\n",
       "              <dt>AppName</dt>\n",
       "                <dd><code>pyspark-shell</code></dd>\n",
       "            </dl>\n",
       "        </div>\n",
       "        \n",
       "            </div>\n",
       "        "
      ],
      "text/plain": [
       "<pyspark.sql.session.SparkSession at 0x7f61c9376550>"
      ]
     },
     "execution_count": 4,
     "metadata": {
      "tags": []
     },
     "output_type": "execute_result"
    }
   ],
   "source": [
    "spark"
   ]
  },
  {
   "cell_type": "markdown",
   "metadata": {
    "id": "kAYRX2PMm0L6"
   },
   "source": [
    "### Data Preprocessing"
   ]
  },
  {
   "cell_type": "markdown",
   "metadata": {
    "id": "7hXdMR6wnEIM"
   },
   "source": [
    "In this Colab, rather than downloading a file from Google Drive, we will load a famous machine learning dataset, the [Breast Cancer Wisconsin dataset](https://scikit-learn.org/stable/modules/generated/sklearn.datasets.load_breast_cancer.html), using the ```scikit-learn``` datasets loader."
   ]
  },
  {
   "cell_type": "code",
   "execution_count": 5,
   "metadata": {
    "id": "5K93ABEy9Zlo"
   },
   "outputs": [],
   "source": [
    "from sklearn.datasets import load_breast_cancer\n",
    "breast_cancer = load_breast_cancer()"
   ]
  },
  {
   "cell_type": "markdown",
   "metadata": {
    "id": "wpsaYOqRxar2"
   },
   "source": [
    "For convenience, given that the dataset is small, we first construct a Pandas dataframe, tune the schema, and then convert it into a Spark dataframe."
   ]
  },
  {
   "cell_type": "code",
   "execution_count": 6,
   "metadata": {
    "colab": {
     "base_uri": "https://localhost:8080/"
    },
    "id": "Oitav_xhQD9w",
    "outputId": "2a236650-6a2a-4f66-e49c-785c47a12c88"
   },
   "outputs": [
    {
     "name": "stdout",
     "output_type": "stream",
     "text": [
      "root\n",
      " |-- mean radius: double (nullable = false)\n",
      " |-- mean texture: double (nullable = false)\n",
      " |-- mean perimeter: double (nullable = false)\n",
      " |-- mean area: double (nullable = false)\n",
      " |-- mean smoothness: double (nullable = false)\n",
      " |-- mean compactness: double (nullable = false)\n",
      " |-- mean concavity: double (nullable = false)\n",
      " |-- mean concave points: double (nullable = false)\n",
      " |-- mean symmetry: double (nullable = false)\n",
      " |-- mean fractal dimension: double (nullable = false)\n",
      " |-- radius error: double (nullable = false)\n",
      " |-- texture error: double (nullable = false)\n",
      " |-- perimeter error: double (nullable = false)\n",
      " |-- area error: double (nullable = false)\n",
      " |-- smoothness error: double (nullable = false)\n",
      " |-- compactness error: double (nullable = false)\n",
      " |-- concavity error: double (nullable = false)\n",
      " |-- concave points error: double (nullable = false)\n",
      " |-- symmetry error: double (nullable = false)\n",
      " |-- fractal dimension error: double (nullable = false)\n",
      " |-- worst radius: double (nullable = false)\n",
      " |-- worst texture: double (nullable = false)\n",
      " |-- worst perimeter: double (nullable = false)\n",
      " |-- worst area: double (nullable = false)\n",
      " |-- worst smoothness: double (nullable = false)\n",
      " |-- worst compactness: double (nullable = false)\n",
      " |-- worst concavity: double (nullable = false)\n",
      " |-- worst concave points: double (nullable = false)\n",
      " |-- worst symmetry: double (nullable = false)\n",
      " |-- worst fractal dimension: double (nullable = false)\n",
      " |-- features: array (nullable = false)\n",
      " |    |-- element: double (containsNull = false)\n",
      "\n"
     ]
    }
   ],
   "source": [
    "pd_df = pd.DataFrame(breast_cancer.data, columns=breast_cancer.feature_names)\n",
    "df = spark.createDataFrame(pd_df)\n",
    "\n",
    "def set_df_columns_nullable(spark, df, column_list, nullable=False):\n",
    "    for struct_field in df.schema:\n",
    "        if struct_field.name in column_list:\n",
    "            struct_field.nullable = nullable\n",
    "    df_mod = spark.createDataFrame(df.rdd, df.schema)\n",
    "    return df_mod\n",
    "\n",
    "df = set_df_columns_nullable(spark, df, df.columns)\n",
    "df = df.withColumn('features', array(df.columns))\n",
    "vectors = df.rdd.map(lambda row: Vectors.dense(row.features))\n",
    "\n",
    "df.printSchema()"
   ]
  },
  {
   "cell_type": "markdown",
   "metadata": {
    "id": "TtR1xRvonxiO"
   },
   "source": [
    "With the next cell, we build the two datastructures that we will be using throughout this Colab:\n",
    "\n",
    "\n",
    "*   ```features```, a dataframe of Dense vectors, containing all the original features in the dataset;\n",
    "*   ```labels```, a series of binary labels indicating if the corresponding set of features belongs to a subject with breast cancer, or not.\n",
    "\n"
   ]
  },
  {
   "cell_type": "code",
   "execution_count": 7,
   "metadata": {
    "id": "GP23Xkgwi0SD"
   },
   "outputs": [],
   "source": [
    "from pyspark.ml.linalg import Vectors\n",
    "features = spark.createDataFrame(vectors.map(Row), [\"features\"])\n",
    "labels = pd.Series(breast_cancer.target)"
   ]
  },
  {
   "cell_type": "markdown",
   "metadata": {
    "id": "QrS41E2tkVYb"
   },
   "source": [
    "#**Question01:**"
   ]
  },
  {
   "cell_type": "markdown",
   "metadata": {
    "id": "ebLNUxP0_8x3"
   },
   "source": [
    "\n",
    "\n",
    "If you run successfully the Setup and Data Preprocessing stages, you are now ready to cluster the data with the [K-means](https://spark.apache.org/docs/latest/ml-clustering.html) algorithm included in MLlib (Spark's Machine Learning library).\n",
    "Set the ```k``` parameter to **2**, fit the model, and the compute the [Silhouette score](https://en.wikipedia.org/wiki/Silhouette_(clustering)) (i.e., a measure of quality of the obtained clustering).  \n",
    "\n",
    "**IMPORTANT:** use the MLlib implementation of the Silhouette score (via ```ClusteringEvaluator```)."
   ]
  },
  {
   "cell_type": "code",
   "execution_count": 68,
   "metadata": {
    "colab": {
     "base_uri": "https://localhost:8080/"
    },
    "id": "0xVIfPHZwWaE",
    "outputId": "adfd6b82-dd46-4eb8-d1ff-1029fcf8863a"
   },
   "outputs": [
    {
     "name": "stdout",
     "output_type": "stream",
     "text": [
      "Silhouette with squared euclidean distance = 0.8342904262826145\n",
      "Cluster Centers: \n",
      "[1.25562991e+01 1.85703653e+01 8.11234703e+01 4.96061872e+02\n",
      " 9.48844977e-02 9.10998174e-02 6.24377642e-02 3.34325434e-02\n",
      " 1.78057991e-01 6.34540183e-02 3.04190868e-01 1.21515320e+00\n",
      " 2.15288059e+00 2.37852922e+01 7.17326256e-03 2.34746895e-02\n",
      " 2.87455128e-02 1.06363242e-02 2.06135799e-02 3.74750297e-03\n",
      " 1.40439018e+01 2.47095434e+01 9.19375114e+01 6.19647945e+02\n",
      " 1.29959110e-01 2.23311758e-01 2.19214947e-01 9.13298425e-02\n",
      " 2.83553653e-01 8.32819406e-02]\n",
      "[1.93799237e+01 2.16945802e+01 1.28231298e+02 1.18592977e+03\n",
      " 1.01294580e-01 1.48612977e-01 1.76939466e-01 1.00698779e-01\n",
      " 1.91539695e-01 6.06029008e-02 7.42803817e-01 1.22253817e+00\n",
      " 5.25058015e+00 9.56781679e+01 6.59868702e-03 3.21766947e-02\n",
      " 4.24197710e-02 1.56739847e-02 2.03039695e-02 3.95338931e-03\n",
      " 2.37094656e+01 2.89126718e+01 1.58496183e+02 1.75302290e+03\n",
      " 1.40424733e-01 3.57757710e-01 4.49306107e-01 1.92431069e-01\n",
      " 3.11881679e-01 8.61654962e-02]\n"
     ]
    }
   ],
   "source": [
    "# YOUR CODE HERE\r\n",
    "\r\n",
    "\r\n",
    "from pyspark.ml.evaluation import ClusteringEvaluator\r\n",
    "from pyspark.ml.clustering import KMeans\r\n",
    "\r\n",
    "# Trains a k-means model.\r\n",
    "kmeans = KMeans().setK(2).setSeed(1)\r\n",
    "model = kmeans.fit(features)\r\n",
    "\r\n",
    "# Make predictions\r\n",
    "predictions = model.transform(features)\r\n",
    "\r\n",
    "#print(predictions.toPandas())\r\n",
    "\r\n",
    "# Evaluate clustering by computing Silhouette score\r\n",
    "evaluator = ClusteringEvaluator()\r\n",
    "\r\n",
    "silhouette = evaluator.evaluate(predictions)\r\n",
    "print(\"Silhouette with squared euclidean distance = \" + str(silhouette))\r\n",
    "\r\n",
    "# Shows the result.\r\n",
    "centers = model.clusterCenters()\r\n",
    "print(\"Cluster Centers: \")\r\n",
    "for center in centers:\r\n",
    "    print(center)\r\n"
   ]
  },
  {
   "cell_type": "markdown",
   "metadata": {
    "id": "1w6B376ElyKn"
   },
   "source": [
    "#**Question02:**"
   ]
  },
  {
   "cell_type": "markdown",
   "metadata": {
    "id": "TgOGnorwl3FO"
   },
   "source": [
    "Compute the within cluster sum of squares (WSS) using your **OWN** method in Spark. Note that the score can be be obtained using the `summary.trainingCost` method of the fitted kmeans model."
   ]
  },
  {
   "cell_type": "code",
   "execution_count": 69,
   "metadata": {
    "colab": {
     "base_uri": "https://localhost:8080/"
    },
    "id": "v95ngZOOl3nE",
    "outputId": "e389c744-2f71-46eb-f9ea-73df440cae89"
   },
   "outputs": [
    {
     "name": "stdout",
     "output_type": "stream",
     "text": [
      "Within Set Sum of Squared Errors = 77943099.87829885\n"
     ]
    }
   ],
   "source": [
    "# YOUR CODE HERE\r\n",
    "# Evaluate clustering.\r\n",
    "cost = model.summary.trainingCost\r\n",
    "print(\"Within Set Sum of Squared Errors = \" + str(cost))"
   ]
  },
  {
   "cell_type": "markdown",
   "metadata": {
    "id": "P0d1WIdIkael"
   },
   "source": [
    "#**Question03:**"
   ]
  },
  {
   "cell_type": "markdown",
   "metadata": {
    "id": "5GB09n7sqTO6"
   },
   "source": [
    "**Take** the predictions produced by K-means, and compare them with the ```labels``` variable (i.e., the ground truth from our dataset).  \n",
    "\n",
    "Compute how many data points in the dataset have been clustered correctly (i.e., positive cases in one cluster, negative cases in the other).\n",
    "\n",
    "*HINT*: you can use ```np.count_nonzero(series_a == series_b)``` to quickly compute the element-wise comparison of two series.\n",
    "\n",
    "**IMPORTANT**: K-means is a clustering algorithm, so it will not output a label for each data point, but just a cluster identifier!  As such, label ```0``` does not necessarily match the cluster identifier ```0```.\n"
   ]
  },
  {
   "cell_type": "code",
   "execution_count": 70,
   "metadata": {
    "colab": {
     "base_uri": "https://localhost:8080/"
    },
    "id": "WQhC3APIPPM5",
    "outputId": "a224454a-d442-4c9d-f014-bab2d78693fd"
   },
   "outputs": [
    {
     "name": "stdout",
     "output_type": "stream",
     "text": [
      "# of correctly clustered Data points  = 486\n"
     ]
    }
   ],
   "source": [
    "# YOUR CODE HERE\r\n",
    "\r\n",
    "correct_pred=np.count_nonzero(np.array(predictions.select('prediction').collect()) != np.array(labels).reshape(-1, 1))\r\n",
    "print(\"# of correctly clustered Data points  = \" + str(correct_pred))"
   ]
  },
  {
   "cell_type": "markdown",
   "metadata": {
    "id": "6NuATuqVkokQ"
   },
   "source": [
    "#**Question03:**"
   ]
  },
  {
   "cell_type": "markdown",
   "metadata": {
    "id": "fLIprM1JsdTU"
   },
   "source": [
    "Now perform dimensionality reduction on the ```features``` using the [PCA](https://spark.apache.org/docs/latest/ml-features.html#pca) statistical procedure, available as well in MLlib.\n",
    "\n",
    "Set the ```k``` parameter to **2**, effectively reducing the dataset size of a **15X** factor."
   ]
  },
  {
   "cell_type": "code",
   "execution_count": 71,
   "metadata": {
    "colab": {
     "base_uri": "https://localhost:8080/"
    },
    "id": "p4J8JMDkSb24",
    "outputId": "e880b402-ddd3-45f8-8dcd-573b16cd1755"
   },
   "outputs": [
    {
     "name": "stdout",
     "output_type": "stream",
     "text": [
      "DataFrame[pcaFeatures: vector]\n",
      "+-----------------------------------------+\n",
      "|pcaFeatures                              |\n",
      "+-----------------------------------------+\n",
      "|[-2260.0138862925405,-187.9603012226368] |\n",
      "|[-2368.993755782054,121.58742425815508]  |\n",
      "|[-2095.6652015478608,145.11398565870087] |\n",
      "|[-692.6905100570508,38.576922592081765]  |\n",
      "|[-2030.2124927427062,295.2979839927924]  |\n",
      "|[-888.280053576076,26.079796157025726]   |\n",
      "|[-1921.082212474845,58.807572473099206]  |\n",
      "|[-1074.7813350047961,31.771227808469668] |\n",
      "|[-908.5784781618829,63.83075279044624]   |\n",
      "|[-861.5784494075679,40.57073549705321]   |\n",
      "|[-1404.559130649947,88.23218257736237]   |\n",
      "|[-1524.2324408687816,-3.2630573167779793]|\n",
      "|[-1734.385647746415,273.1626781511459]   |\n",
      "|[-1162.9140032230355,217.63481808344613] |\n",
      "|[-903.4301030498832,135.61517666084782]  |\n",
      "|[-1155.8759954206848,76.80889383742165]  |\n",
      "|[-1335.7294321308068,-2.4684005450356024]|\n",
      "|[-1547.2640922523087,3.805675972574325]  |\n",
      "|[-2714.9647651812156,-164.37610864258804]|\n",
      "|[-908.2502671870876,118.216420082231]    |\n",
      "+-----------------------------------------+\n",
      "only showing top 20 rows\n",
      "\n"
     ]
    }
   ],
   "source": [
    "# YOUR CODE HERE\r\n",
    "from pyspark.ml.feature import PCA\r\n",
    "from pyspark.ml.linalg import Vectors\r\n",
    "\r\n",
    "\r\n",
    "pca = PCA(k=2, inputCol=\"features\", outputCol=\"pcaFeatures\")\r\n",
    "#pca.explained_variance_ratio_\r\n",
    "model = pca.fit(features)\r\n",
    "\r\n",
    "result = model.transform(features).select(\"pcaFeatures\")\r\n",
    "print(result)\r\n",
    "result.show(truncate=False)"
   ]
  },
  {
   "cell_type": "code",
   "execution_count": 72,
   "metadata": {
    "id": "0Dkb8zsXx6zA"
   },
   "outputs": [],
   "source": [
    "result =result.withColumnRenamed(\"pcaFeatures\", \"features\")"
   ]
  },
  {
   "cell_type": "markdown",
   "metadata": {
    "id": "1jgjL07hk2D9"
   },
   "source": [
    "#**Question04:**"
   ]
  },
  {
   "cell_type": "markdown",
   "metadata": {
    "id": "8leQR4-atMAl"
   },
   "source": [
    "Now run K-means with the same parameters as above, but on the ```pcaFeatures``` produced by the PCA reduction you just executed.\n"
   ]
  },
  {
   "cell_type": "code",
   "execution_count": 73,
   "metadata": {
    "id": "U_snSSj5k2y5"
   },
   "outputs": [],
   "source": [
    "# YOUR CODE HERE\r\n",
    "\r\n",
    "# Trains a k-means model.\r\n",
    "kmeans = KMeans().setK(2).setSeed(1)\r\n",
    "model = kmeans.fit(result)\r\n",
    "\r\n",
    "# Make predictions\r\n",
    "predictions_pca = model.transform(result)\r\n",
    "#print(predictions_pca.toPandas())\r\n"
   ]
  },
  {
   "cell_type": "markdown",
   "metadata": {
    "id": "xdgUsa1AauKq"
   },
   "source": []
  },
  {
   "cell_type": "markdown",
   "metadata": {
    "id": "QXZ6Ho5fk9c8"
   },
   "source": [
    "#**Question05:**"
   ]
  },
  {
   "cell_type": "markdown",
   "metadata": {
    "id": "v0jomSzGk8T9"
   },
   "source": [
    "Compute the Silhouette score, as well as the number of data points that have been clustered correctly."
   ]
  },
  {
   "cell_type": "code",
   "execution_count": 74,
   "metadata": {
    "colab": {
     "base_uri": "https://localhost:8080/"
    },
    "id": "sMUb_afmlIEW",
    "outputId": "2f1cf778-b7d3-4e3b-8f77-aefc99b4c998"
   },
   "outputs": [
    {
     "name": "stdout",
     "output_type": "stream",
     "text": [
      "Silhouette with squared euclidean distance (AFTER PCA) = 0.8348610363444836\n",
      "Cluster Centers: \n",
      "[-793.36109344  105.48246852]\n",
      "[-2124.69173996   107.54465437]\n"
     ]
    }
   ],
   "source": [
    "# YOUR CODE HERE\r\n",
    "# Evaluate clustering by computing Silhouette score\r\n",
    "evaluator = ClusteringEvaluator()\r\n",
    "\r\n",
    "silhouette = evaluator.evaluate(predictions_pca)\r\n",
    "print(\"Silhouette with squared euclidean distance (AFTER PCA) = \" + str(silhouette))\r\n",
    "\r\n",
    "# Shows the result.\r\n",
    "centers = model.clusterCenters()\r\n",
    "print(\"Cluster Centers: \")\r\n",
    "for center in centers:\r\n",
    "    print(center)"
   ]
  },
  {
   "cell_type": "code",
   "execution_count": 75,
   "metadata": {
    "colab": {
     "base_uri": "https://localhost:8080/"
    },
    "id": "b-qYZQ30yU7G",
    "outputId": "5cb935e8-ba1c-4935-ef75-a0ad954fdeeb"
   },
   "outputs": [
    {
     "name": "stdout",
     "output_type": "stream",
     "text": [
      "the number of data points that have been clustered correctly (AFTER PCA) = 486\n"
     ]
    }
   ],
   "source": [
    "correct_pred=np.count_nonzero(np.array(predictions_pca.select('prediction').collect()) != np.array(labels).reshape(-1, 1))\r\n",
    "print(\"the number of data points that have been clustered correctly (AFTER PCA) = \" + str(correct_pred))"
   ]
  },
  {
   "cell_type": "markdown",
   "metadata": {
    "id": "Yic6VhS7m4fd"
   },
   "source": [
    "#**Question06:**"
   ]
  },
  {
   "cell_type": "markdown",
   "metadata": {
    "id": "98Jqf4hTnC4f"
   },
   "source": [
    "Visualize the dataset by plotting a scatter plot of the two PCA components. \n",
    "\n",
    "You need to plot two scatter plots:\n",
    "\n",
    "1) Highlight the two **actual** labels in the dataset\n",
    "\n",
    "2) Highlight the two **clusters** found by K-Means in the dataset"
   ]
  },
  {
   "cell_type": "code",
   "execution_count": 76,
   "metadata": {
    "colab": {
     "base_uri": "https://localhost:8080/",
     "height": 513
    },
    "id": "2jfzWUdKnJUJ",
    "outputId": "0fd6d93b-6847-4911-88a5-300869664cb2"
   },
   "outputs": [
    {
     "data": {
      "image/png": "[encoded data removed]",
      "text/plain": [
       "<Figure size 720x576 with 1 Axes>"
      ]
     },
     "metadata": {
      "needs_background": "light",
      "tags": []
     },
     "output_type": "display_data"
    }
   ],
   "source": [
    "# YOUR CODE HERE\r\n",
    "# plot the first two components\r\n",
    "import matplotlib.pyplot as plt\r\n",
    "plt.figure(figsize = (10, 8))\r\n",
    "#print(correct_pred)\r\n",
    "f=predictions.toPandas()\r\n",
    "f1=predictions_pca.toPandas()\r\n",
    "#print(f['features'][0][0])\r\n",
    "#print(f['prediction'])\r\n",
    "#feat=np.asarray(f['features'], dtype='float32')\r\n",
    "preds= np.asarray(f['prediction'], dtype='int32')\r\n",
    "preds1= np.asarray(f1['prediction'], dtype='int32')\r\n",
    "#print(feat)\r\n",
    "#print(preds)\r\n",
    "colors=['r', 'g']\r\n",
    "for i in range(preds.shape[0]):\r\n",
    "       if labels[i]== 0:\r\n",
    "          plt.scatter([f['features'][i][0]], [f['features'][i][1]],c=colors[0], linewidths=0)\r\n",
    "       else:\r\n",
    "          plt.scatter([f['features'][i][0]], [f['features'][i][1]],c=colors[1], linewidths=0)\r\n",
    "plt.xlabel('PC-1')\r\n",
    "plt.ylabel('PC-2')\r\n",
    "plt.title('Highlight the two actual labels in the dataset')\r\n",
    "plt.show()\r\n"
   ]
  },
  {
   "cell_type": "code",
   "execution_count": 77,
   "metadata": {
    "colab": {
     "base_uri": "https://localhost:8080/",
     "height": 513
    },
    "id": "PK0ooIqOI4Y-",
    "outputId": "bc717566-0dfa-4450-f828-5eef9380c6c2"
   },
   "outputs": [
    {
     "data": {
      "image/png": "[encoded data removed]",
      "text/plain": [
       "<Figure size 720x576 with 1 Axes>"
      ]
     },
     "metadata": {
      "needs_background": "light",
      "tags": []
     },
     "output_type": "display_data"
    }
   ],
   "source": [
    "#print(f1)\r\n",
    "#print(f)\r\n",
    "plt.figure(figsize=(10, 8))\r\n",
    "\r\n",
    "colors=['r', 'g']\r\n",
    "for i in range(preds1.shape[0]):\r\n",
    "       if labels[i]== 0:\r\n",
    "          plt.scatter([f1['features'][i][0]], [f1['features'][i][1]],c=colors[0], linewidths=0)\r\n",
    "       else:\r\n",
    "          plt.scatter([f1['features'][i][0]], [f1['features'][i][1]],c=colors[1], linewidths=0)\r\n",
    "plt.xlabel('PC-1')\r\n",
    "plt.ylabel('PC-2')\r\n",
    "plt.title('Highlight the two clusters found by K-Means in the dataset')\r\n",
    "plt.show()"
   ]
  },
  {
   "cell_type": "markdown",
   "metadata": {
    "id": "QU43Wr9OnPeQ"
   },
   "source": [
    "#**Question07:**"
   ]
  },
  {
   "cell_type": "markdown",
   "metadata": {
    "id": "A23r3PUrm1iC"
   },
   "source": [
    "Repeat the process of Question01 for K = 1 to 10. **Plot** separately\n",
    "\n",
    "1) the Sihouette score for each K\n",
    "\n",
    "2) the within cluster sum of squares (WSS) for each K"
   ]
  },
  {
   "cell_type": "code",
   "execution_count": 18,
   "metadata": {
    "colab": {
     "base_uri": "https://localhost:8080/",
     "height": 513
    },
    "id": "zPJ_JWpMm0f8",
    "outputId": "5387647f-f5ce-41e9-851e-8451c655abe6"
   },
   "outputs": [
    {
     "data": {
      "image/png": "[encoded data removed]",
      "text/plain": [
       "<Figure size 720x576 with 1 Axes>"
      ]
     },
     "metadata": {
      "needs_background": "light",
      "tags": []
     },
     "output_type": "display_data"
    }
   ],
   "source": [
    "# YOUR CODE HERE\r\n",
    "sil_score=[]\r\n",
    "for k in range(2,11):\r\n",
    "    kmeans = KMeans(k=k)\r\n",
    "    model = kmeans.fit(features)\r\n",
    "\r\n",
    "# Make predictions\r\n",
    "    predictions = model.transform(features)\r\n",
    "\r\n",
    "# Evaluate clustering by computing Silhouette score\r\n",
    "    evaluator = ClusteringEvaluator()\r\n",
    "    silhouette = evaluator.evaluate(predictions)\r\n",
    "    sil_score.append(silhouette)\r\n",
    "    #print(\"Silhouette with squared euclidean distance = \" + str(silhouette))\r\n",
    "\r\n",
    "plt.figure(figsize = (10, 8))\r\n",
    "plt.plot(range(2,11), sil_score,marker='o',linestyle='--')\r\n",
    "plt.xlabel('# of Clusters')\r\n",
    "plt.ylabel('Silhouette score')\r\n",
    "plt.title('The Sihouette score for each K')\r\n",
    "plt.show()"
   ]
  },
  {
   "cell_type": "code",
   "execution_count": 19,
   "metadata": {
    "colab": {
     "base_uri": "https://localhost:8080/",
     "height": 513
    },
    "id": "4WqJmh6UBIaP",
    "outputId": "20cfe0e4-062a-408f-b7ea-dc3354854988"
   },
   "outputs": [
    {
     "data": {
      "image/png": "[encoded data removed]",
      "text/plain": [
       "<Figure size 720x576 with 1 Axes>"
      ]
     },
     "metadata": {
      "needs_background": "light",
      "tags": []
     },
     "output_type": "display_data"
    }
   ],
   "source": [
    "wss=[]\r\n",
    "for k in range(2,11):\r\n",
    "    kmeans = KMeans(k=k)\r\n",
    "    model = kmeans.fit(features)\r\n",
    "    cost = model.summary.trainingCost\r\n",
    "    wss.append(cost)\r\n",
    "    #print(\"Within Set Sum of Squared Errors = \" + str(cost))\r\n",
    "\r\n",
    "plt.figure(figsize = (10, 8))\r\n",
    "plt.plot(range(2,11), wss,marker='o',linestyle='--')\r\n",
    "plt.xlabel('# of Clusters')\r\n",
    "plt.ylabel('WSS')\r\n",
    "plt.title('The within cluster sum of squares (WSS) for each K')\r\n",
    "plt.show()"
   ]
  }
 ],
 "metadata": {
  "accelerator": "GPU",
  "colab": {
   "collapsed_sections": [],
   "name": "Assignment04.ipynb",
   "provenance": []
  },
  "kernelspec": {
   "display_name": "Python 3",
   "language": "python",
   "name": "python3"
  },
  "language_info": {
   "codemirror_mode": {
    "name": "ipython",
    "version": 3
   },
   "file_extension": ".py",
   "mimetype": "text/x-python",
   "name": "python",
   "nbconvert_exporter": "python",
   "pygments_lexer": "ipython3",
   "version": "3.6.12"
  }
 },
 "nbformat": 4,
 "nbformat_minor": 4
}
